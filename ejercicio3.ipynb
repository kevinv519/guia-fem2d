{
 "cells": [
  {
   "cell_type": "code",
   "execution_count": 1,
   "metadata": {},
   "outputs": [],
   "source": [
    "from sympy import *\n",
    "\n",
    "x1, x2, x3, x4, x5, x6, eps, eta, phi = symbols('x_1 x_2 x_3 x_4 x_5 x_6 \\epsilon \\eta \\phi')\n",
    "y1, y2, y3, y4, y5, y6 = symbols('y_1 y_2 y_3 y_4 y_5 y_6')"
   ]
  },
  {
   "cell_type": "code",
   "execution_count": 6,
   "metadata": {},
   "outputs": [],
   "source": [
    "n1 = eps*(eps-phi-eta)\n",
    "n2 = eta*(eta-phi-eps)\n",
    "n3 = phi*(phi-eps-eta)\n",
    "n4 = 4*eps*eta\n",
    "n5 = 4*eta*phi\n",
    "n6 = 4*eps*phi\n",
    "x = x1*n1 + x2*n2 + x3*n3 + x4*n4 + x5*n5 + x6*n6\n",
    "y = y1*n1 + y2*n2 + y3*n3 + y4*n4 + y5*n5 + y6*n6"
   ]
  },
  {
   "cell_type": "code",
   "execution_count": 4,
   "metadata": {},
   "outputs": [
    {
     "data": {
      "text/latex": [
       "$\\displaystyle 4 \\epsilon \\eta x_{4} + 4 \\epsilon \\phi x_{6} + \\epsilon x_{1} \\left(\\epsilon - \\eta - \\phi\\right) + 4 \\eta \\phi x_{5} + \\eta x_{2} \\left(- \\epsilon + \\eta - \\phi\\right) + \\phi x_{3} \\left(- \\epsilon - \\eta + \\phi\\right)$"
      ],
      "text/plain": [
       "4*\\epsilon*\\eta*x_4 + 4*\\epsilon*\\phi*x_6 + \\epsilon*x_1*(\\epsilon - \\eta - \\phi) + 4*\\eta*\\phi*x_5 + \\eta*x_2*(-\\epsilon + \\eta - \\phi) + \\phi*x_3*(-\\epsilon - \\eta + \\phi)"
      ]
     },
     "execution_count": 4,
     "metadata": {},
     "output_type": "execute_result"
    }
   ],
   "source": [
    "x"
   ]
  },
  {
   "cell_type": "code",
   "execution_count": 5,
   "metadata": {},
   "outputs": [
    {
     "data": {
      "text/latex": [
       "$\\displaystyle 4 \\epsilon \\eta y_{4} + 4 \\epsilon \\phi y_{6} + \\epsilon y_{1} \\left(\\epsilon - \\eta - \\phi\\right) + 4 \\eta \\phi y_{5} + \\eta y_{2} \\left(- \\epsilon + \\eta - \\phi\\right) + \\phi y_{3} \\left(- \\epsilon - \\eta + \\phi\\right)$"
      ],
      "text/plain": [
       "4*\\epsilon*\\eta*y_4 + 4*\\epsilon*\\phi*y_6 + \\epsilon*y_1*(\\epsilon - \\eta - \\phi) + 4*\\eta*\\phi*y_5 + \\eta*y_2*(-\\epsilon + \\eta - \\phi) + \\phi*y_3*(-\\epsilon - \\eta + \\phi)"
      ]
     },
     "execution_count": 5,
     "metadata": {},
     "output_type": "execute_result"
    }
   ],
   "source": [
    "y"
   ]
  },
  {
   "cell_type": "markdown",
   "metadata": {},
   "source": [
    "Encontrando:\n",
    "$$\\mathbf{\\nabla_{x} N} = \\mathbf{\\nabla_{\\epsilon} X}^{-1} \\mathbf{\\nabla_{\\epsilon} N}$$\n",
    "\n",
    "Primero \n",
    "$$ \\mathbf{\\nabla_{\\epsilon} N} $$"
   ]
  },
  {
   "cell_type": "code",
   "execution_count": 13,
   "metadata": {},
   "outputs": [
    {
     "data": {
      "text/latex": [
       "$\\displaystyle \\left[\\begin{matrix}2 \\epsilon - \\eta - \\phi & - \\eta & - \\phi & 4 \\eta & 0 & 4 \\phi\\\\- \\epsilon & - \\epsilon + 2 \\eta - \\phi & - \\phi & 4 \\epsilon & 4 \\phi & 0\\end{matrix}\\right]$"
      ],
      "text/plain": [
       "Matrix([\n",
       "[2*\\epsilon - \\eta - \\phi,                     -\\eta, -\\phi,     4*\\eta,      0, 4*\\phi],\n",
       "[               -\\epsilon, -\\epsilon + 2*\\eta - \\phi, -\\phi, 4*\\epsilon, 4*\\phi,      0]])"
      ]
     },
     "execution_count": 13,
     "metadata": {},
     "output_type": "execute_result"
    }
   ],
   "source": [
    "b = Matrix([\n",
    "    [diff(n1, eps), diff(n2, eps), diff(n3, eps), diff(n4, eps), diff(n5, eps), diff(n6, eps)],\n",
    "    [diff(n1, eta), diff(n2, eta), diff(n3, eta), diff(n4, eta), diff(n5, eta), diff(n6, eta)]])\n",
    "b"
   ]
  },
  {
   "cell_type": "code",
   "execution_count": 14,
   "metadata": {},
   "outputs": [
    {
     "data": {
      "text/latex": [
       "$\\displaystyle \\left[\\begin{matrix}\\epsilon x_{1} - \\eta x_{2} + 4 \\eta x_{4} - \\phi x_{3} + 4 \\phi x_{6} + x_{1} \\left(\\epsilon - \\eta - \\phi\\right) & \\epsilon y_{1} - \\eta y_{2} + 4 \\eta y_{4} - \\phi y_{3} + 4 \\phi y_{6} + y_{1} \\left(\\epsilon - \\eta - \\phi\\right)\\\\- \\epsilon x_{1} + 4 \\epsilon x_{4} + \\eta x_{2} - \\phi x_{3} + 4 \\phi x_{5} + x_{2} \\left(- \\epsilon + \\eta - \\phi\\right) & - \\epsilon y_{1} + 4 \\epsilon y_{4} + \\eta y_{2} - \\phi y_{3} + 4 \\phi y_{5} + y_{2} \\left(- \\epsilon + \\eta - \\phi\\right)\\end{matrix}\\right]$"
      ],
      "text/plain": [
       "Matrix([\n",
       "[      \\epsilon*x_1 - \\eta*x_2 + 4*\\eta*x_4 - \\phi*x_3 + 4*\\phi*x_6 + x_1*(\\epsilon - \\eta - \\phi),       \\epsilon*y_1 - \\eta*y_2 + 4*\\eta*y_4 - \\phi*y_3 + 4*\\phi*y_6 + y_1*(\\epsilon - \\eta - \\phi)],\n",
       "[-\\epsilon*x_1 + 4*\\epsilon*x_4 + \\eta*x_2 - \\phi*x_3 + 4*\\phi*x_5 + x_2*(-\\epsilon + \\eta - \\phi), -\\epsilon*y_1 + 4*\\epsilon*y_4 + \\eta*y_2 - \\phi*y_3 + 4*\\phi*y_5 + y_2*(-\\epsilon + \\eta - \\phi)]])"
      ]
     },
     "execution_count": 14,
     "metadata": {},
     "output_type": "execute_result"
    }
   ],
   "source": [
    "a = Matrix([\n",
    "    [diff(x, eps), diff(y, eps)],\n",
    "    [diff(x, eta), diff(y, eta)]\n",
    "])\n",
    "a"
   ]
  },
  {
   "cell_type": "code",
   "execution_count": 16,
   "metadata": {},
   "outputs": [
    {
     "data": {
      "text/latex": [
       "$\\displaystyle \\left[\\begin{matrix}\\frac{- \\left(- \\epsilon x_{1} + 4 \\epsilon x_{4} + \\eta x_{2} - \\phi x_{3} + 4 \\phi x_{5} + x_{2} \\left(- \\epsilon + \\eta - \\phi\\right)\\right) \\left(\\epsilon y_{1} - \\eta y_{2} + 4 \\eta y_{4} - \\phi y_{3} + 4 \\phi y_{6} + y_{1} \\left(\\epsilon - \\eta - \\phi\\right)\\right) - \\left(\\epsilon x_{1} - 4 \\epsilon x_{4} - \\eta x_{2} + \\phi x_{3} - 4 \\phi x_{5} - x_{2} \\left(- \\epsilon + \\eta - \\phi\\right)\\right) \\left(\\epsilon y_{1} - \\eta y_{2} + 4 \\eta y_{4} - \\phi y_{3} + 4 \\phi y_{6} + y_{1} \\left(\\epsilon - \\eta - \\phi\\right)\\right) + \\left(\\epsilon x_{1} - \\eta x_{2} + 4 \\eta x_{4} - \\phi x_{3} + 4 \\phi x_{6} + x_{1} \\left(\\epsilon - \\eta - \\phi\\right)\\right) \\left(- \\epsilon y_{1} + 4 \\epsilon y_{4} + \\eta y_{2} - \\phi y_{3} + 4 \\phi y_{5} + y_{2} \\left(- \\epsilon + \\eta - \\phi\\right)\\right)}{\\left(- \\left(- \\epsilon x_{1} + 4 \\epsilon x_{4} + \\eta x_{2} - \\phi x_{3} + 4 \\phi x_{5} + x_{2} \\left(- \\epsilon + \\eta - \\phi\\right)\\right) \\left(\\epsilon y_{1} - \\eta y_{2} + 4 \\eta y_{4} - \\phi y_{3} + 4 \\phi y_{6} + y_{1} \\left(\\epsilon - \\eta - \\phi\\right)\\right) + \\left(\\epsilon x_{1} - \\eta x_{2} + 4 \\eta x_{4} - \\phi x_{3} + 4 \\phi x_{6} + x_{1} \\left(\\epsilon - \\eta - \\phi\\right)\\right) \\left(- \\epsilon y_{1} + 4 \\epsilon y_{4} + \\eta y_{2} - \\phi y_{3} + 4 \\phi y_{5} + y_{2} \\left(- \\epsilon + \\eta - \\phi\\right)\\right)\\right) \\left(\\epsilon x_{1} - \\eta x_{2} + 4 \\eta x_{4} - \\phi x_{3} + 4 \\phi x_{6} + x_{1} \\left(\\epsilon - \\eta - \\phi\\right)\\right)} & - \\frac{\\epsilon y_{1} - \\eta y_{2} + 4 \\eta y_{4} - \\phi y_{3} + 4 \\phi y_{6} + y_{1} \\left(\\epsilon - \\eta - \\phi\\right)}{- \\left(- \\epsilon x_{1} + 4 \\epsilon x_{4} + \\eta x_{2} - \\phi x_{3} + 4 \\phi x_{5} + x_{2} \\left(- \\epsilon + \\eta - \\phi\\right)\\right) \\left(\\epsilon y_{1} - \\eta y_{2} + 4 \\eta y_{4} - \\phi y_{3} + 4 \\phi y_{6} + y_{1} \\left(\\epsilon - \\eta - \\phi\\right)\\right) + \\left(\\epsilon x_{1} - \\eta x_{2} + 4 \\eta x_{4} - \\phi x_{3} + 4 \\phi x_{6} + x_{1} \\left(\\epsilon - \\eta - \\phi\\right)\\right) \\left(- \\epsilon y_{1} + 4 \\epsilon y_{4} + \\eta y_{2} - \\phi y_{3} + 4 \\phi y_{5} + y_{2} \\left(- \\epsilon + \\eta - \\phi\\right)\\right)}\\\\\\frac{\\epsilon x_{1} - 4 \\epsilon x_{4} - \\eta x_{2} + \\phi x_{3} - 4 \\phi x_{5} - x_{2} \\left(- \\epsilon + \\eta - \\phi\\right)}{- \\left(- \\epsilon x_{1} + 4 \\epsilon x_{4} + \\eta x_{2} - \\phi x_{3} + 4 \\phi x_{5} + x_{2} \\left(- \\epsilon + \\eta - \\phi\\right)\\right) \\left(\\epsilon y_{1} - \\eta y_{2} + 4 \\eta y_{4} - \\phi y_{3} + 4 \\phi y_{6} + y_{1} \\left(\\epsilon - \\eta - \\phi\\right)\\right) + \\left(\\epsilon x_{1} - \\eta x_{2} + 4 \\eta x_{4} - \\phi x_{3} + 4 \\phi x_{6} + x_{1} \\left(\\epsilon - \\eta - \\phi\\right)\\right) \\left(- \\epsilon y_{1} + 4 \\epsilon y_{4} + \\eta y_{2} - \\phi y_{3} + 4 \\phi y_{5} + y_{2} \\left(- \\epsilon + \\eta - \\phi\\right)\\right)} & \\frac{\\epsilon x_{1} - \\eta x_{2} + 4 \\eta x_{4} - \\phi x_{3} + 4 \\phi x_{6} + x_{1} \\left(\\epsilon - \\eta - \\phi\\right)}{- \\left(- \\epsilon x_{1} + 4 \\epsilon x_{4} + \\eta x_{2} - \\phi x_{3} + 4 \\phi x_{5} + x_{2} \\left(- \\epsilon + \\eta - \\phi\\right)\\right) \\left(\\epsilon y_{1} - \\eta y_{2} + 4 \\eta y_{4} - \\phi y_{3} + 4 \\phi y_{6} + y_{1} \\left(\\epsilon - \\eta - \\phi\\right)\\right) + \\left(\\epsilon x_{1} - \\eta x_{2} + 4 \\eta x_{4} - \\phi x_{3} + 4 \\phi x_{6} + x_{1} \\left(\\epsilon - \\eta - \\phi\\right)\\right) \\left(- \\epsilon y_{1} + 4 \\epsilon y_{4} + \\eta y_{2} - \\phi y_{3} + 4 \\phi y_{5} + y_{2} \\left(- \\epsilon + \\eta - \\phi\\right)\\right)}\\end{matrix}\\right]$"
      ],
      "text/plain": [
       "Matrix([\n",
       "[(-(-\\epsilon*x_1 + 4*\\epsilon*x_4 + \\eta*x_2 - \\phi*x_3 + 4*\\phi*x_5 + x_2*(-\\epsilon + \\eta - \\phi))*(\\epsilon*y_1 - \\eta*y_2 + 4*\\eta*y_4 - \\phi*y_3 + 4*\\phi*y_6 + y_1*(\\epsilon - \\eta - \\phi)) - (\\epsilon*x_1 - 4*\\epsilon*x_4 - \\eta*x_2 + \\phi*x_3 - 4*\\phi*x_5 - x_2*(-\\epsilon + \\eta - \\phi))*(\\epsilon*y_1 - \\eta*y_2 + 4*\\eta*y_4 - \\phi*y_3 + 4*\\phi*y_6 + y_1*(\\epsilon - \\eta - \\phi)) + (\\epsilon*x_1 - \\eta*x_2 + 4*\\eta*x_4 - \\phi*x_3 + 4*\\phi*x_6 + x_1*(\\epsilon - \\eta - \\phi))*(-\\epsilon*y_1 + 4*\\epsilon*y_4 + \\eta*y_2 - \\phi*y_3 + 4*\\phi*y_5 + y_2*(-\\epsilon + \\eta - \\phi)))/((-(-\\epsilon*x_1 + 4*\\epsilon*x_4 + \\eta*x_2 - \\phi*x_3 + 4*\\phi*x_5 + x_2*(-\\epsilon + \\eta - \\phi))*(\\epsilon*y_1 - \\eta*y_2 + 4*\\eta*y_4 - \\phi*y_3 + 4*\\phi*y_6 + y_1*(\\epsilon - \\eta - \\phi)) + (\\epsilon*x_1 - \\eta*x_2 + 4*\\eta*x_4 - \\phi*x_3 + 4*\\phi*x_6 + x_1*(\\epsilon - \\eta - \\phi))*(-\\epsilon*y_1 + 4*\\epsilon*y_4 + \\eta*y_2 - \\phi*y_3 + 4*\\phi*y_5 + y_2*(-\\epsilon + \\eta - \\phi)))*(\\epsilon*x_1 - \\eta*x_2 + 4*\\eta*x_4 - \\phi*x_3 + 4*\\phi*x_6 + x_1*(\\epsilon - \\eta - \\phi))), -(\\epsilon*y_1 - \\eta*y_2 + 4*\\eta*y_4 - \\phi*y_3 + 4*\\phi*y_6 + y_1*(\\epsilon - \\eta - \\phi))/(-(-\\epsilon*x_1 + 4*\\epsilon*x_4 + \\eta*x_2 - \\phi*x_3 + 4*\\phi*x_5 + x_2*(-\\epsilon + \\eta - \\phi))*(\\epsilon*y_1 - \\eta*y_2 + 4*\\eta*y_4 - \\phi*y_3 + 4*\\phi*y_6 + y_1*(\\epsilon - \\eta - \\phi)) + (\\epsilon*x_1 - \\eta*x_2 + 4*\\eta*x_4 - \\phi*x_3 + 4*\\phi*x_6 + x_1*(\\epsilon - \\eta - \\phi))*(-\\epsilon*y_1 + 4*\\epsilon*y_4 + \\eta*y_2 - \\phi*y_3 + 4*\\phi*y_5 + y_2*(-\\epsilon + \\eta - \\phi)))],\n",
       "[                                                                                                                                                                                                                                                                                                                                                                                                                                                                                                                                                                                                         (\\epsilon*x_1 - 4*\\epsilon*x_4 - \\eta*x_2 + \\phi*x_3 - 4*\\phi*x_5 - x_2*(-\\epsilon + \\eta - \\phi))/(-(-\\epsilon*x_1 + 4*\\epsilon*x_4 + \\eta*x_2 - \\phi*x_3 + 4*\\phi*x_5 + x_2*(-\\epsilon + \\eta - \\phi))*(\\epsilon*y_1 - \\eta*y_2 + 4*\\eta*y_4 - \\phi*y_3 + 4*\\phi*y_6 + y_1*(\\epsilon - \\eta - \\phi)) + (\\epsilon*x_1 - \\eta*x_2 + 4*\\eta*x_4 - \\phi*x_3 + 4*\\phi*x_6 + x_1*(\\epsilon - \\eta - \\phi))*(-\\epsilon*y_1 + 4*\\epsilon*y_4 + \\eta*y_2 - \\phi*y_3 + 4*\\phi*y_5 + y_2*(-\\epsilon + \\eta - \\phi))),  (\\epsilon*x_1 - \\eta*x_2 + 4*\\eta*x_4 - \\phi*x_3 + 4*\\phi*x_6 + x_1*(\\epsilon - \\eta - \\phi))/(-(-\\epsilon*x_1 + 4*\\epsilon*x_4 + \\eta*x_2 - \\phi*x_3 + 4*\\phi*x_5 + x_2*(-\\epsilon + \\eta - \\phi))*(\\epsilon*y_1 - \\eta*y_2 + 4*\\eta*y_4 - \\phi*y_3 + 4*\\phi*y_6 + y_1*(\\epsilon - \\eta - \\phi)) + (\\epsilon*x_1 - \\eta*x_2 + 4*\\eta*x_4 - \\phi*x_3 + 4*\\phi*x_6 + x_1*(\\epsilon - \\eta - \\phi))*(-\\epsilon*y_1 + 4*\\epsilon*y_4 + \\eta*y_2 - \\phi*y_3 + 4*\\phi*y_5 + y_2*(-\\epsilon + \\eta - \\phi)))]])"
      ]
     },
     "execution_count": 16,
     "metadata": {},
     "output_type": "execute_result"
    }
   ],
   "source": []
  }
 ],
 "metadata": {
  "kernelspec": {
   "display_name": "Python 3",
   "language": "python",
   "name": "python3"
  },
  "language_info": {
   "codemirror_mode": {
    "name": "ipython",
    "version": 3
   },
   "file_extension": ".py",
   "mimetype": "text/x-python",
   "name": "python",
   "nbconvert_exporter": "python",
   "pygments_lexer": "ipython3",
   "version": "3.7.3"
  }
 },
 "nbformat": 4,
 "nbformat_minor": 2
}
