{
 "cells": [
  {
   "cell_type": "markdown",
   "metadata": {},
   "source": [
    "# Ejercicio 2"
   ]
  },
  {
   "cell_type": "code",
   "execution_count": 18,
   "metadata": {},
   "outputs": [],
   "source": [
    "from sympy import *\n",
    "from IPython.display import Markdown as md\n",
    "\n",
    "x, y, x1, x2, x3, eps, eta = symbols('x y x_1 x_2 x_3 \\epsilon \\eta')\n",
    "\n",
    "#x = (x2-x1)*eps + (x3-x1)*eta + x1\n",
    "\n",
    "k = 5*exp(x) - (x**3 / 2)"
   ]
  },
  {
   "cell_type": "code",
   "execution_count": 3,
   "metadata": {},
   "outputs": [
    {
     "data": {
      "text/latex": [
       "$\\displaystyle \\begin{cases} - \\frac{x_{1}^{2} x_{2}}{8} - \\frac{x_{1}^{2} x_{3}}{8} + \\frac{x_{1} x_{2}^{2}}{8} + \\frac{x_{1} x_{2} x_{3}}{4} + \\frac{x_{1} x_{3}^{2}}{8} - \\frac{x_{2}^{3}}{8} - \\frac{x_{2}^{2} x_{3}}{4} - \\frac{x_{2} x_{3}^{2}}{4} - \\frac{x_{3}^{3}}{8} - \\frac{\\left(- 5 e^{x_{1}} + 5 e^{x_{3}}\\right) e^{x_{1}}}{x_{1}^{2} e^{x_{1}} - x_{1} x_{2} e^{x_{1}} - x_{1} x_{3} e^{x_{1}} + x_{2} x_{3} e^{x_{1}}} + \\frac{\\left(- 5 e^{x_{1}} + 5 e^{x_{3}}\\right) e^{x_{2}}}{x_{1}^{2} e^{x_{1}} - x_{1} x_{2} e^{x_{1}} - x_{1} x_{3} e^{x_{1}} + x_{2} x_{3} e^{x_{1}}} & \\text{for}\\: x_{1} - x_{3} \\neq 0 \\wedge x_{1}^{2} e^{x_{1}} - x_{1} x_{2} e^{x_{1}} - x_{1} x_{3} e^{x_{1}} + x_{2} x_{3} e^{x_{1}} \\neq 0 \\\\- \\frac{x_{1}^{2} x_{2}}{8} - \\frac{x_{1}^{2} x_{3}}{8} + \\frac{x_{1} x_{2}^{2}}{8} + \\frac{x_{1} x_{2} x_{3}}{4} + \\frac{x_{1} x_{3}^{2}}{8} - \\frac{x_{2}^{3}}{8} - \\frac{x_{2}^{2} x_{3}}{4} - \\frac{x_{2} x_{3}^{2}}{4} - \\frac{x_{3}^{3}}{8} + \\frac{5 e^{x_{1}} - 5 e^{x_{3}}}{x_{1} e^{x_{1}} - x_{3} e^{x_{1}}} & \\text{for}\\: x_{1} - x_{3} \\neq 0 \\\\- \\frac{x_{1}^{2} x_{2}}{8} - \\frac{x_{1}^{2} x_{3}}{8} + \\frac{x_{1} x_{2}^{2}}{8} + \\frac{x_{1} x_{2} x_{3}}{4} + \\frac{x_{1} x_{3}^{2}}{8} - \\frac{x_{2}^{3}}{8} - \\frac{x_{2}^{2} x_{3}}{4} - \\frac{x_{2} x_{3}^{2}}{4} - \\frac{x_{3}^{3}}{8} + 5 & \\text{otherwise} \\end{cases}$"
      ],
      "text/plain": [
       "Piecewise((-x_1**2*x_2/8 - x_1**2*x_3/8 + x_1*x_2**2/8 + x_1*x_2*x_3/4 + x_1*x_3**2/8 - x_2**3/8 - x_2**2*x_3/4 - x_2*x_3**2/4 - x_3**3/8 - (-5*exp(x_1) + 5*exp(x_3))*exp(x_1)/(x_1**2*exp(x_1) - x_1*x_2*exp(x_1) - x_1*x_3*exp(x_1) + x_2*x_3*exp(x_1)) + (-5*exp(x_1) + 5*exp(x_3))*exp(x_2)/(x_1**2*exp(x_1) - x_1*x_2*exp(x_1) - x_1*x_3*exp(x_1) + x_2*x_3*exp(x_1)), Ne(x_1 - x_3, 0) & Ne(x_1**2*exp(x_1) - x_1*x_2*exp(x_1) - x_1*x_3*exp(x_1) + x_2*x_3*exp(x_1), 0)), (-x_1**2*x_2/8 - x_1**2*x_3/8 + x_1*x_2**2/8 + x_1*x_2*x_3/4 + x_1*x_3**2/8 - x_2**3/8 - x_2**2*x_3/4 - x_2*x_3**2/4 - x_3**3/8 + (5*exp(x_1) - 5*exp(x_3))/(x_1*exp(x_1) - x_3*exp(x_1)), Ne(x_1 - x_3, 0)), (-x_1**2*x_2/8 - x_1**2*x_3/8 + x_1*x_2**2/8 + x_1*x_2*x_3/4 + x_1*x_3**2/8 - x_2**3/8 - x_2**2*x_3/4 - x_2*x_3**2/4 - x_3**3/8 + 5, True))"
      ]
     },
     "execution_count": 3,
     "metadata": {},
     "output_type": "execute_result"
    }
   ],
   "source": [
    "i = integrate(integrate(k, [eta, 0, 1]), [eps, 0, 1])\n",
    "i"
   ]
  },
  {
   "cell_type": "code",
   "execution_count": 19,
   "metadata": {},
   "outputs": [
    {
     "data": {
      "text/latex": [
       "$\\displaystyle - \\frac{x^{4} y}{8} + 5 y e^{x}$"
      ],
      "text/plain": [
       "-x**4*y/8 + 5*y*exp(x)"
      ]
     },
     "execution_count": 19,
     "metadata": {},
     "output_type": "execute_result"
    }
   ],
   "source": [
    "integrate(integrate(k, y),x)"
   ]
  }
 ],
 "metadata": {
  "kernelspec": {
   "display_name": "Python 3",
   "language": "python",
   "name": "python3"
  },
  "language_info": {
   "codemirror_mode": {
    "name": "ipython",
    "version": 3
   },
   "file_extension": ".py",
   "mimetype": "text/x-python",
   "name": "python",
   "nbconvert_exporter": "python",
   "pygments_lexer": "ipython3",
   "version": "3.7.3"
  }
 },
 "nbformat": 4,
 "nbformat_minor": 2
}
