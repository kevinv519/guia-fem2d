{
 "cells": [
  {
   "cell_type": "markdown",
   "metadata": {},
   "source": [
    "# Guía 2 - Método de Elementos Finitos en 2D\n",
    "1. Para la ecuación de calor utilizada en clase\n",
    "$$ \\nabla(k \\nabla T) = - Q $$\n",
    "Modificar la formulación del FEM para\n",
    "$$ Q = Q(x) = 2x^4-3x^2$$"
   ]
  },
  {
   "cell_type": "markdown",
   "metadata": {},
   "source": [
    "**Desarrollo**\n",
    "Para la integral\n",
    "$$ \\iint_\\Omega \\mathbf{N}^\\top Q(x) dy dx $$\n",
    "\n",
    "Definiendo que:\n",
    "$$ \\psi_{ij} = \\psi_i - \\psi_j ; \\psi \\in \\{x,y\\} $$\n",
    "\n",
    "Donde:\n",
    "$$ x = x_{21} \\epsilon + x_{31} \\eta + x_1 $$\n"
   ]
  },
  {
   "cell_type": "code",
   "execution_count": 1,
   "metadata": {},
   "outputs": [
    {
     "data": {
      "text/latex": [
       "$\\displaystyle \\left[\\begin{matrix}\\frac{x_{1}^{4}}{3} + \\frac{x_{1}^{3} x_{21}}{3} + \\frac{x_{1}^{3} x_{31}}{3} + \\frac{x_{1}^{2} x_{21}^{2}}{5} + \\frac{x_{1}^{2} x_{21} x_{31}}{5} + \\frac{x_{1}^{2} x_{31}^{2}}{5} - \\frac{x_{1}^{2}}{2} + \\frac{x_{1} x_{21}^{3}}{15} + \\frac{x_{1} x_{21}^{2} x_{31}}{15} + \\frac{x_{1} x_{21} x_{31}^{2}}{15} - \\frac{x_{1} x_{21}}{4} + \\frac{x_{1} x_{31}^{3}}{15} - \\frac{x_{1} x_{31}}{4} + \\frac{x_{21}^{4}}{105} + \\frac{x_{21}^{3} x_{31}}{105} + \\frac{x_{21}^{2} x_{31}^{2}}{105} - \\frac{x_{21}^{2}}{20} + \\frac{x_{21} x_{31}^{3}}{105} - \\frac{x_{21} x_{31}}{20} + \\frac{x_{31}^{4}}{105} - \\frac{x_{31}^{2}}{20}\\\\\\frac{x_{1}^{4}}{3} + \\frac{2 x_{1}^{3} x_{21}}{3} + \\frac{x_{1}^{3} x_{31}}{3} + \\frac{3 x_{1}^{2} x_{21}^{2}}{5} + \\frac{2 x_{1}^{2} x_{21} x_{31}}{5} + \\frac{x_{1}^{2} x_{31}^{2}}{5} - \\frac{x_{1}^{2}}{2} + \\frac{4 x_{1} x_{21}^{3}}{15} + \\frac{x_{1} x_{21}^{2} x_{31}}{5} + \\frac{2 x_{1} x_{21} x_{31}^{2}}{15} - \\frac{x_{1} x_{21}}{2} + \\frac{x_{1} x_{31}^{3}}{15} - \\frac{x_{1} x_{31}}{4} + \\frac{x_{21}^{4}}{21} + \\frac{4 x_{21}^{3} x_{31}}{105} + \\frac{x_{21}^{2} x_{31}^{2}}{35} - \\frac{3 x_{21}^{2}}{20} + \\frac{2 x_{21} x_{31}^{3}}{105} - \\frac{x_{21} x_{31}}{10} + \\frac{x_{31}^{4}}{105} - \\frac{x_{31}^{2}}{20}\\\\\\frac{x_{1}^{4}}{3} + \\frac{x_{1}^{3} x_{21}}{3} + \\frac{2 x_{1}^{3} x_{31}}{3} + \\frac{x_{1}^{2} x_{21}^{2}}{5} + \\frac{2 x_{1}^{2} x_{21} x_{31}}{5} + \\frac{3 x_{1}^{2} x_{31}^{2}}{5} - \\frac{x_{1}^{2}}{2} + \\frac{x_{1} x_{21}^{3}}{15} + \\frac{2 x_{1} x_{21}^{2} x_{31}}{15} + \\frac{x_{1} x_{21} x_{31}^{2}}{5} - \\frac{x_{1} x_{21}}{4} + \\frac{4 x_{1} x_{31}^{3}}{15} - \\frac{x_{1} x_{31}}{2} + \\frac{x_{21}^{4}}{105} + \\frac{2 x_{21}^{3} x_{31}}{105} + \\frac{x_{21}^{2} x_{31}^{2}}{35} - \\frac{x_{21}^{2}}{20} + \\frac{4 x_{21} x_{31}^{3}}{105} - \\frac{x_{21} x_{31}}{10} + \\frac{x_{31}^{4}}{21} - \\frac{3 x_{31}^{2}}{20}\\end{matrix}\\right]$"
      ],
      "text/plain": [
       "Matrix([\n",
       "[             x_1**4/3 + x_1**3*x_21/3 + x_1**3*x_31/3 + x_1**2*x_21**2/5 + x_1**2*x_21*x_31/5 + x_1**2*x_31**2/5 - x_1**2/2 + x_1*x_21**3/15 + x_1*x_21**2*x_31/15 + x_1*x_21*x_31**2/15 - x_1*x_21/4 + x_1*x_31**3/15 - x_1*x_31/4 + x_21**4/105 + x_21**3*x_31/105 + x_21**2*x_31**2/105 - x_21**2/20 + x_21*x_31**3/105 - x_21*x_31/20 + x_31**4/105 - x_31**2/20],\n",
       "[x_1**4/3 + 2*x_1**3*x_21/3 + x_1**3*x_31/3 + 3*x_1**2*x_21**2/5 + 2*x_1**2*x_21*x_31/5 + x_1**2*x_31**2/5 - x_1**2/2 + 4*x_1*x_21**3/15 + x_1*x_21**2*x_31/5 + 2*x_1*x_21*x_31**2/15 - x_1*x_21/2 + x_1*x_31**3/15 - x_1*x_31/4 + x_21**4/21 + 4*x_21**3*x_31/105 + x_21**2*x_31**2/35 - 3*x_21**2/20 + 2*x_21*x_31**3/105 - x_21*x_31/10 + x_31**4/105 - x_31**2/20],\n",
       "[x_1**4/3 + x_1**3*x_21/3 + 2*x_1**3*x_31/3 + x_1**2*x_21**2/5 + 2*x_1**2*x_21*x_31/5 + 3*x_1**2*x_31**2/5 - x_1**2/2 + x_1*x_21**3/15 + 2*x_1*x_21**2*x_31/15 + x_1*x_21*x_31**2/5 - x_1*x_21/4 + 4*x_1*x_31**3/15 - x_1*x_31/2 + x_21**4/105 + 2*x_21**3*x_31/105 + x_21**2*x_31**2/35 - x_21**2/20 + 4*x_21*x_31**3/105 - x_21*x_31/10 + x_31**4/21 - 3*x_31**2/20]])"
      ]
     },
     "execution_count": 1,
     "metadata": {},
     "output_type": "execute_result"
    }
   ],
   "source": [
    "from sympy import *\n",
    "\n",
    "eps, eta, x21, x31, x1 = symbols('\\epsilon \\eta x_21 x_31 x_1')\n",
    "\n",
    "x = x21*eps + x31*eta + x1\n",
    "\n",
    "nt = Matrix([1-eps-eta, eps, eta])\n",
    "\n",
    "integrate(integrate(nt*(2*x**4 - 3*x**2), [eta, 0, 1-eps]), [eps, 0, 1])"
   ]
  }
 ],
 "metadata": {
  "kernelspec": {
   "display_name": "Python 3",
   "language": "python",
   "name": "python3"
  },
  "language_info": {
   "codemirror_mode": {
    "name": "ipython",
    "version": 3
   },
   "file_extension": ".py",
   "mimetype": "text/x-python",
   "name": "python",
   "nbconvert_exporter": "python",
   "pygments_lexer": "ipython3",
   "version": "3.7.3"
  }
 },
 "nbformat": 4,
 "nbformat_minor": 2
}
