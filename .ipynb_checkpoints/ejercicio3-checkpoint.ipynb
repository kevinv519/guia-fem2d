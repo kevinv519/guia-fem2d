{
 "cells": [
  {
   "cell_type": "code",
   "execution_count": 1,
   "metadata": {},
   "outputs": [],
   "source": [
    "from sympy import *\n",
    "\n",
    "x1, x2, x3, x4, x5, x6, eps, eta, phi = symbols('x_1 x_2 x_3 x_4 x_5 x_6 \\epsilon \\eta \\phi')\n",
    "y1, y2, y3, y4, y5, y6 = symbols('y_1 y_2 y_3 y_4 y_5 y_6')"
   ]
  },
  {
   "cell_type": "code",
   "execution_count": 3,
   "metadata": {},
   "outputs": [
    {
     "data": {
      "text/latex": [
       "$\\displaystyle 4 \\epsilon \\eta y_{4} + 4 \\epsilon \\phi y_{6} + \\epsilon y_{1} \\left(\\epsilon - \\eta - \\phi\\right) + 4 \\eta \\phi y_{5} + \\eta y_{2} \\left(- \\epsilon + \\eta - \\phi\\right) + \\phi y_{3} \\left(- \\epsilon - \\eta + \\phi\\right)$"
      ],
      "text/plain": [
       "4*\\epsilon*\\eta*y_4 + 4*\\epsilon*\\phi*y_6 + \\epsilon*y_1*(\\epsilon - \\eta - \\phi) + 4*\\eta*\\phi*y_5 + \\eta*y_2*(-\\epsilon + \\eta - \\phi) + \\phi*y_3*(-\\epsilon - \\eta + \\phi)"
      ]
     },
     "execution_count": 3,
     "metadata": {},
     "output_type": "execute_result"
    }
   ],
   "source": [
    "n1 = eps*(eps-phi-eta)\n",
    "n2 = eta*(eta-phi-eps)\n",
    "n3 = phi*(phi-eps-eta)\n",
    "n4 = 4*eps*eta\n",
    "n5 = 4*eta*phi\n",
    "n6 = 4*eps*phi\n",
    "x = x1*n1 + x2*n2 + x3*n3 + x4*n4 + x5*n5 + x6*n6\n",
    "y = y1*n1 + y2*n2 + y3*n3 + y4*n4 + y5*n5 + y6*n6"
   ]
  }
 ],
 "metadata": {
  "kernelspec": {
   "display_name": "Python 3",
   "language": "python",
   "name": "python3"
  },
  "language_info": {
   "codemirror_mode": {
    "name": "ipython",
    "version": 3
   },
   "file_extension": ".py",
   "mimetype": "text/x-python",
   "name": "python",
   "nbconvert_exporter": "python",
   "pygments_lexer": "ipython3",
   "version": "3.7.3"
  }
 },
 "nbformat": 4,
 "nbformat_minor": 2
}
